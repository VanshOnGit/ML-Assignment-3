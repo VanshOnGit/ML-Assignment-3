{
  "nbformat": 4,
  "nbformat_minor": 0,
  "metadata": {
    "colab": {
      "provenance": [],
      "gpuType": "T4"
    },
    "kernelspec": {
      "name": "python3",
      "display_name": "Python 3"
    },
    "language_info": {
      "name": "python"
    },
    "accelerator": "GPU"
  },
  "cells": [
    {
      "cell_type": "code",
      "execution_count": null,
      "metadata": {
        "id": "G1m5kskXvyFn"
      },
      "outputs": [],
      "source": [
        "import tensorflow as tf\n",
        "import sklearn\n",
        "from sklearn.model_selection import train_test_split\n",
        "import torch\n",
        "import torch.nn as nn\n",
        "import torch.nn.functional as F\n",
        "import numpy as np\n",
        "import matplotlib.pyplot as plt\n",
        "import pandas as pd\n",
        "import torch.optim as optim\n",
        "from sklearn.metrics import confusion_matrix\n",
        "from sklearn.metrics import accuracy_score\n",
        "import seaborn as sns"
      ]
    },
    {
      "cell_type": "code",
      "source": [
        "Dataset = pd.read_csv(\"xor.csv\").sample(frac=1)\n",
        "Dataset[\"X1X2\"] = Dataset[\"X1\"] * Dataset[\"X2\"]\n",
        "Dataset.head(10)"
      ],
      "metadata": {
        "colab": {
          "base_uri": "https://localhost:8080/",
          "height": 363
        },
        "id": "wCMrsfaE3QgH",
        "outputId": "3daa382f-8063-4ced-d95f-f8e4ea9e030a"
      },
      "execution_count": null,
      "outputs": [
        {
          "output_type": "execute_result",
          "data": {
            "text/plain": [
              "     Unnamed: 0        X1        X2  label      X1X2\n",
              "382         382  0.627060  0.597408    0.0  0.374610\n",
              "966         966  0.882239  0.173103    1.0  0.152719\n",
              "94           94  0.396118  0.483555    0.0  0.191545\n",
              "508         508  0.088404  0.704775    1.0  0.062305\n",
              "699         699  0.095450  0.513963    1.0  0.049058\n",
              "221         221  0.231223  0.429590    0.0  0.099331\n",
              "371         371  0.795893  0.876447    0.0  0.697558\n",
              "561         561  0.273137  0.562803    1.0  0.153722\n",
              "763         763  0.611569  0.406458    1.0  0.248577\n",
              "146         146  0.477588  0.044999    0.0  0.021491"
            ],
            "text/html": [
              "\n",
              "  <div id=\"df-3b0b82fa-6265-427d-9e26-c12f278414a4\" class=\"colab-df-container\">\n",
              "    <div>\n",
              "<style scoped>\n",
              "    .dataframe tbody tr th:only-of-type {\n",
              "        vertical-align: middle;\n",
              "    }\n",
              "\n",
              "    .dataframe tbody tr th {\n",
              "        vertical-align: top;\n",
              "    }\n",
              "\n",
              "    .dataframe thead th {\n",
              "        text-align: right;\n",
              "    }\n",
              "</style>\n",
              "<table border=\"1\" class=\"dataframe\">\n",
              "  <thead>\n",
              "    <tr style=\"text-align: right;\">\n",
              "      <th></th>\n",
              "      <th>Unnamed: 0</th>\n",
              "      <th>X1</th>\n",
              "      <th>X2</th>\n",
              "      <th>label</th>\n",
              "      <th>X1X2</th>\n",
              "    </tr>\n",
              "  </thead>\n",
              "  <tbody>\n",
              "    <tr>\n",
              "      <th>382</th>\n",
              "      <td>382</td>\n",
              "      <td>0.627060</td>\n",
              "      <td>0.597408</td>\n",
              "      <td>0.0</td>\n",
              "      <td>0.374610</td>\n",
              "    </tr>\n",
              "    <tr>\n",
              "      <th>966</th>\n",
              "      <td>966</td>\n",
              "      <td>0.882239</td>\n",
              "      <td>0.173103</td>\n",
              "      <td>1.0</td>\n",
              "      <td>0.152719</td>\n",
              "    </tr>\n",
              "    <tr>\n",
              "      <th>94</th>\n",
              "      <td>94</td>\n",
              "      <td>0.396118</td>\n",
              "      <td>0.483555</td>\n",
              "      <td>0.0</td>\n",
              "      <td>0.191545</td>\n",
              "    </tr>\n",
              "    <tr>\n",
              "      <th>508</th>\n",
              "      <td>508</td>\n",
              "      <td>0.088404</td>\n",
              "      <td>0.704775</td>\n",
              "      <td>1.0</td>\n",
              "      <td>0.062305</td>\n",
              "    </tr>\n",
              "    <tr>\n",
              "      <th>699</th>\n",
              "      <td>699</td>\n",
              "      <td>0.095450</td>\n",
              "      <td>0.513963</td>\n",
              "      <td>1.0</td>\n",
              "      <td>0.049058</td>\n",
              "    </tr>\n",
              "    <tr>\n",
              "      <th>221</th>\n",
              "      <td>221</td>\n",
              "      <td>0.231223</td>\n",
              "      <td>0.429590</td>\n",
              "      <td>0.0</td>\n",
              "      <td>0.099331</td>\n",
              "    </tr>\n",
              "    <tr>\n",
              "      <th>371</th>\n",
              "      <td>371</td>\n",
              "      <td>0.795893</td>\n",
              "      <td>0.876447</td>\n",
              "      <td>0.0</td>\n",
              "      <td>0.697558</td>\n",
              "    </tr>\n",
              "    <tr>\n",
              "      <th>561</th>\n",
              "      <td>561</td>\n",
              "      <td>0.273137</td>\n",
              "      <td>0.562803</td>\n",
              "      <td>1.0</td>\n",
              "      <td>0.153722</td>\n",
              "    </tr>\n",
              "    <tr>\n",
              "      <th>763</th>\n",
              "      <td>763</td>\n",
              "      <td>0.611569</td>\n",
              "      <td>0.406458</td>\n",
              "      <td>1.0</td>\n",
              "      <td>0.248577</td>\n",
              "    </tr>\n",
              "    <tr>\n",
              "      <th>146</th>\n",
              "      <td>146</td>\n",
              "      <td>0.477588</td>\n",
              "      <td>0.044999</td>\n",
              "      <td>0.0</td>\n",
              "      <td>0.021491</td>\n",
              "    </tr>\n",
              "  </tbody>\n",
              "</table>\n",
              "</div>\n",
              "    <div class=\"colab-df-buttons\">\n",
              "\n",
              "  <div class=\"colab-df-container\">\n",
              "    <button class=\"colab-df-convert\" onclick=\"convertToInteractive('df-3b0b82fa-6265-427d-9e26-c12f278414a4')\"\n",
              "            title=\"Convert this dataframe to an interactive table.\"\n",
              "            style=\"display:none;\">\n",
              "\n",
              "  <svg xmlns=\"http://www.w3.org/2000/svg\" height=\"24px\" viewBox=\"0 -960 960 960\">\n",
              "    <path d=\"M120-120v-720h720v720H120Zm60-500h600v-160H180v160Zm220 220h160v-160H400v160Zm0 220h160v-160H400v160ZM180-400h160v-160H180v160Zm440 0h160v-160H620v160ZM180-180h160v-160H180v160Zm440 0h160v-160H620v160Z\"/>\n",
              "  </svg>\n",
              "    </button>\n",
              "\n",
              "  <style>\n",
              "    .colab-df-container {\n",
              "      display:flex;\n",
              "      gap: 12px;\n",
              "    }\n",
              "\n",
              "    .colab-df-convert {\n",
              "      background-color: #E8F0FE;\n",
              "      border: none;\n",
              "      border-radius: 50%;\n",
              "      cursor: pointer;\n",
              "      display: none;\n",
              "      fill: #1967D2;\n",
              "      height: 32px;\n",
              "      padding: 0 0 0 0;\n",
              "      width: 32px;\n",
              "    }\n",
              "\n",
              "    .colab-df-convert:hover {\n",
              "      background-color: #E2EBFA;\n",
              "      box-shadow: 0px 1px 2px rgba(60, 64, 67, 0.3), 0px 1px 3px 1px rgba(60, 64, 67, 0.15);\n",
              "      fill: #174EA6;\n",
              "    }\n",
              "\n",
              "    .colab-df-buttons div {\n",
              "      margin-bottom: 4px;\n",
              "    }\n",
              "\n",
              "    [theme=dark] .colab-df-convert {\n",
              "      background-color: #3B4455;\n",
              "      fill: #D2E3FC;\n",
              "    }\n",
              "\n",
              "    [theme=dark] .colab-df-convert:hover {\n",
              "      background-color: #434B5C;\n",
              "      box-shadow: 0px 1px 3px 1px rgba(0, 0, 0, 0.15);\n",
              "      filter: drop-shadow(0px 1px 2px rgba(0, 0, 0, 0.3));\n",
              "      fill: #FFFFFF;\n",
              "    }\n",
              "  </style>\n",
              "\n",
              "    <script>\n",
              "      const buttonEl =\n",
              "        document.querySelector('#df-3b0b82fa-6265-427d-9e26-c12f278414a4 button.colab-df-convert');\n",
              "      buttonEl.style.display =\n",
              "        google.colab.kernel.accessAllowed ? 'block' : 'none';\n",
              "\n",
              "      async function convertToInteractive(key) {\n",
              "        const element = document.querySelector('#df-3b0b82fa-6265-427d-9e26-c12f278414a4');\n",
              "        const dataTable =\n",
              "          await google.colab.kernel.invokeFunction('convertToInteractive',\n",
              "                                                    [key], {});\n",
              "        if (!dataTable) return;\n",
              "\n",
              "        const docLinkHtml = 'Like what you see? Visit the ' +\n",
              "          '<a target=\"_blank\" href=https://colab.research.google.com/notebooks/data_table.ipynb>data table notebook</a>'\n",
              "          + ' to learn more about interactive tables.';\n",
              "        element.innerHTML = '';\n",
              "        dataTable['output_type'] = 'display_data';\n",
              "        await google.colab.output.renderOutput(dataTable, element);\n",
              "        const docLink = document.createElement('div');\n",
              "        docLink.innerHTML = docLinkHtml;\n",
              "        element.appendChild(docLink);\n",
              "      }\n",
              "    </script>\n",
              "  </div>\n",
              "\n",
              "\n",
              "<div id=\"df-f3d32ec5-1726-410a-8eb7-67edc6ea9f19\">\n",
              "  <button class=\"colab-df-quickchart\" onclick=\"quickchart('df-f3d32ec5-1726-410a-8eb7-67edc6ea9f19')\"\n",
              "            title=\"Suggest charts\"\n",
              "            style=\"display:none;\">\n",
              "\n",
              "<svg xmlns=\"http://www.w3.org/2000/svg\" height=\"24px\"viewBox=\"0 0 24 24\"\n",
              "     width=\"24px\">\n",
              "    <g>\n",
              "        <path d=\"M19 3H5c-1.1 0-2 .9-2 2v14c0 1.1.9 2 2 2h14c1.1 0 2-.9 2-2V5c0-1.1-.9-2-2-2zM9 17H7v-7h2v7zm4 0h-2V7h2v10zm4 0h-2v-4h2v4z\"/>\n",
              "    </g>\n",
              "</svg>\n",
              "  </button>\n",
              "\n",
              "<style>\n",
              "  .colab-df-quickchart {\n",
              "      --bg-color: #E8F0FE;\n",
              "      --fill-color: #1967D2;\n",
              "      --hover-bg-color: #E2EBFA;\n",
              "      --hover-fill-color: #174EA6;\n",
              "      --disabled-fill-color: #AAA;\n",
              "      --disabled-bg-color: #DDD;\n",
              "  }\n",
              "\n",
              "  [theme=dark] .colab-df-quickchart {\n",
              "      --bg-color: #3B4455;\n",
              "      --fill-color: #D2E3FC;\n",
              "      --hover-bg-color: #434B5C;\n",
              "      --hover-fill-color: #FFFFFF;\n",
              "      --disabled-bg-color: #3B4455;\n",
              "      --disabled-fill-color: #666;\n",
              "  }\n",
              "\n",
              "  .colab-df-quickchart {\n",
              "    background-color: var(--bg-color);\n",
              "    border: none;\n",
              "    border-radius: 50%;\n",
              "    cursor: pointer;\n",
              "    display: none;\n",
              "    fill: var(--fill-color);\n",
              "    height: 32px;\n",
              "    padding: 0;\n",
              "    width: 32px;\n",
              "  }\n",
              "\n",
              "  .colab-df-quickchart:hover {\n",
              "    background-color: var(--hover-bg-color);\n",
              "    box-shadow: 0 1px 2px rgba(60, 64, 67, 0.3), 0 1px 3px 1px rgba(60, 64, 67, 0.15);\n",
              "    fill: var(--button-hover-fill-color);\n",
              "  }\n",
              "\n",
              "  .colab-df-quickchart-complete:disabled,\n",
              "  .colab-df-quickchart-complete:disabled:hover {\n",
              "    background-color: var(--disabled-bg-color);\n",
              "    fill: var(--disabled-fill-color);\n",
              "    box-shadow: none;\n",
              "  }\n",
              "\n",
              "  .colab-df-spinner {\n",
              "    border: 2px solid var(--fill-color);\n",
              "    border-color: transparent;\n",
              "    border-bottom-color: var(--fill-color);\n",
              "    animation:\n",
              "      spin 1s steps(1) infinite;\n",
              "  }\n",
              "\n",
              "  @keyframes spin {\n",
              "    0% {\n",
              "      border-color: transparent;\n",
              "      border-bottom-color: var(--fill-color);\n",
              "      border-left-color: var(--fill-color);\n",
              "    }\n",
              "    20% {\n",
              "      border-color: transparent;\n",
              "      border-left-color: var(--fill-color);\n",
              "      border-top-color: var(--fill-color);\n",
              "    }\n",
              "    30% {\n",
              "      border-color: transparent;\n",
              "      border-left-color: var(--fill-color);\n",
              "      border-top-color: var(--fill-color);\n",
              "      border-right-color: var(--fill-color);\n",
              "    }\n",
              "    40% {\n",
              "      border-color: transparent;\n",
              "      border-right-color: var(--fill-color);\n",
              "      border-top-color: var(--fill-color);\n",
              "    }\n",
              "    60% {\n",
              "      border-color: transparent;\n",
              "      border-right-color: var(--fill-color);\n",
              "    }\n",
              "    80% {\n",
              "      border-color: transparent;\n",
              "      border-right-color: var(--fill-color);\n",
              "      border-bottom-color: var(--fill-color);\n",
              "    }\n",
              "    90% {\n",
              "      border-color: transparent;\n",
              "      border-bottom-color: var(--fill-color);\n",
              "    }\n",
              "  }\n",
              "</style>\n",
              "\n",
              "  <script>\n",
              "    async function quickchart(key) {\n",
              "      const quickchartButtonEl =\n",
              "        document.querySelector('#' + key + ' button');\n",
              "      quickchartButtonEl.disabled = true;  // To prevent multiple clicks.\n",
              "      quickchartButtonEl.classList.add('colab-df-spinner');\n",
              "      try {\n",
              "        const charts = await google.colab.kernel.invokeFunction(\n",
              "            'suggestCharts', [key], {});\n",
              "      } catch (error) {\n",
              "        console.error('Error during call to suggestCharts:', error);\n",
              "      }\n",
              "      quickchartButtonEl.classList.remove('colab-df-spinner');\n",
              "      quickchartButtonEl.classList.add('colab-df-quickchart-complete');\n",
              "    }\n",
              "    (() => {\n",
              "      let quickchartButtonEl =\n",
              "        document.querySelector('#df-f3d32ec5-1726-410a-8eb7-67edc6ea9f19 button');\n",
              "      quickchartButtonEl.style.display =\n",
              "        google.colab.kernel.accessAllowed ? 'block' : 'none';\n",
              "    })();\n",
              "  </script>\n",
              "</div>\n",
              "\n",
              "    </div>\n",
              "  </div>\n"
            ],
            "application/vnd.google.colaboratory.intrinsic+json": {
              "type": "dataframe",
              "variable_name": "Dataset",
              "summary": "{\n  \"name\": \"Dataset\",\n  \"rows\": 1000,\n  \"fields\": [\n    {\n      \"column\": \"Unnamed: 0\",\n      \"properties\": {\n        \"dtype\": \"number\",\n        \"std\": 288,\n        \"min\": 0,\n        \"max\": 999,\n        \"num_unique_values\": 1000,\n        \"samples\": [\n          124,\n          809,\n          205\n        ],\n        \"semantic_type\": \"\",\n        \"description\": \"\"\n      }\n    },\n    {\n      \"column\": \"X1\",\n      \"properties\": {\n        \"dtype\": \"number\",\n        \"std\": 0.2899033882205785,\n        \"min\": 0.0027897897067156,\n        \"max\": 0.9997603039841824,\n        \"num_unique_values\": 1000,\n        \"samples\": [\n          0.2971451570995995,\n          0.553509208531255,\n          0.0639646314147584\n        ],\n        \"semantic_type\": \"\",\n        \"description\": \"\"\n      }\n    },\n    {\n      \"column\": \"X2\",\n      \"properties\": {\n        \"dtype\": \"number\",\n        \"std\": 0.2925096925780325,\n        \"min\": 0.0007651499302185,\n        \"max\": 0.9975616249541156,\n        \"num_unique_values\": 1000,\n        \"samples\": [\n          0.4052576226769143,\n          0.4245514623559787,\n          0.1944202373147346\n        ],\n        \"semantic_type\": \"\",\n        \"description\": \"\"\n      }\n    },\n    {\n      \"column\": \"label\",\n      \"properties\": {\n        \"dtype\": \"number\",\n        \"std\": 0.5002501876563868,\n        \"min\": 0.0,\n        \"max\": 1.0,\n        \"num_unique_values\": 2,\n        \"samples\": [\n          1.0,\n          0.0\n        ],\n        \"semantic_type\": \"\",\n        \"description\": \"\"\n      }\n    },\n    {\n      \"column\": \"X1X2\",\n      \"properties\": {\n        \"dtype\": \"number\",\n        \"std\": 0.22746494742397116,\n        \"min\": 4.794588124662894e-05,\n        \"max\": 0.9573309008156141,\n        \"num_unique_values\": 1000,\n        \"samples\": [\n          0.1204203399561419,\n          0.23499314390944465\n        ],\n        \"semantic_type\": \"\",\n        \"description\": \"\"\n      }\n    }\n  ]\n}"
            }
          },
          "metadata": {},
          "execution_count": 3
        }
      ]
    },
    {
      "cell_type": "code",
      "source": [
        "X_mlp = Dataset[['X1', 'X2']].iloc[:400].values\n",
        "X_lr = Dataset[[\"X1\",\"X2\", \"X1X2\"]].iloc[:400].values\n",
        "y = Dataset['label'].iloc[:400].values\n",
        "\n",
        "X_train_val_mlp, X_test_mlp, y_train_val, y_test_mlp = train_test_split(X_mlp, y , test_size = 0.5, random_state = 42)\n",
        "X_train_mlp, X_val_mlp, y_train_mlp, y_val_mlp = train_test_split(X_train_val_mlp, y_train_val, test_size = 0.25, random_state = 42)\n",
        "\n",
        "X_train_lr, X_test_lr, y_train_lr, y_test_lr = train_test_split(X_lr, y, test_size = 0.5, random_state = 42)"
      ],
      "metadata": {
        "id": "TtPpgKlL2H8z"
      },
      "execution_count": null,
      "outputs": []
    },
    {
      "cell_type": "code",
      "source": [
        "X_train_mlp_tensor = torch.FloatTensor(X_train_mlp)\n",
        "y_train_mlp_tensor = torch.LongTensor(y_train_mlp)\n",
        "X_test_mlp_tensor = torch.FloatTensor(X_test_mlp)\n",
        "y_test_mlp_tensor = torch.LongTensor(y_test_mlp)\n",
        "X_val_mlp_tensor = torch.FloatTensor(X_val_mlp)\n",
        "y_val_mlp_tensor = torch.LongTensor(y_val_mlp)"
      ],
      "metadata": {
        "id": "V28652i6HiTp"
      },
      "execution_count": null,
      "outputs": []
    },
    {
      "cell_type": "code",
      "source": [
        "y_train_mlp.shape, y_val_mlp.shape, y_test_mlp.shape"
      ],
      "metadata": {
        "colab": {
          "base_uri": "https://localhost:8080/"
        },
        "id": "bAcwhSClDerH",
        "outputId": "28275ea3-9705-4967-878c-07f2b37b8a53"
      },
      "execution_count": null,
      "outputs": [
        {
          "output_type": "execute_result",
          "data": {
            "text/plain": [
              "((150,), (50,), (200,))"
            ]
          },
          "metadata": {},
          "execution_count": 6
        }
      ]
    },
    {
      "cell_type": "code",
      "source": [
        "def plot_decision_boundary(model, X, y):\n",
        "\n",
        "    x_min, x_max = X[:, 0].min() - 1, X[:, 0].max() + 1\n",
        "    y_min, y_max = X[:, 1].min() - 1, X[:, 1].max() + 1\n",
        "    xx, yy = np.meshgrid(np.arange(x_min, x_max, 0.01),\n",
        "                         np.arange(y_min, y_max, 0.01))\n",
        "\n",
        "    grid = torch.FloatTensor(np.c_[xx.ravel(), yy.ravel()])\n",
        "    with torch.no_grad():\n",
        "        Z = model(grid)\n",
        "        Z = torch.argmax(Z, dim=1)\n",
        "\n",
        "    Z = Z.reshape(xx.shape)\n",
        "\n",
        "    plt.figure(figsize=(6, 6))\n",
        "    plt.contourf(xx, yy, Z, alpha=0.8, cmap='coolwarm')\n",
        "    plt.scatter(X[:, 0], X[:, 1], c=y, edgecolors='k', marker='o')\n",
        "    plt.title('Decision Boundary')\n",
        "    plt.xlabel('Feature 1')\n",
        "    plt.ylabel('Feature 2')\n",
        "    plt.show()"
      ],
      "metadata": {
        "id": "dy2IqWxoNg5h"
      },
      "execution_count": null,
      "outputs": []
    },
    {
      "cell_type": "code",
      "source": [
        "class MLP(nn.Module):\n",
        "  def __init__(self):\n",
        "    super(MLP, self).__init__()\n",
        "    self.fc1 = nn.Linear(2,8)\n",
        "    self.fc2 = nn.Linear(8,4)\n",
        "    self.fc3 = nn.Linear(4,2)\n",
        "    self.act = nn.ReLU()\n",
        "\n",
        "  def forward(self,x):\n",
        "    x = self.act(self.fc1(x))\n",
        "    x = self.act(self.fc2(x))\n",
        "    x = self.fc3(x)\n",
        "    return x\n",
        "\n",
        "model_mlp = MLP()\n",
        "\n",
        "criterion = nn.CrossEntropyLoss()\n",
        "optimizer = optim.Adam(model_mlp.parameters(), lr  = 0.03)\n",
        "num_epochs = 200\n",
        "\n",
        "for epoch in range(num_epochs):\n",
        "\n",
        "  model_mlp.train()\n",
        "  optimizer.zero_grad()\n",
        "\n",
        "  outputs = model_mlp(X_train_mlp_tensor)\n",
        "  loss = criterion(outputs, y_train_mlp_tensor)\n",
        "\n",
        "  loss.backward()\n",
        "  optimizer.step()\n",
        "\n",
        "  if (epoch + 1) % 10 == 0:\n",
        "   print(f'Epoch {epoch + 1 } :  Loss: {loss.item():.4f}')"
      ],
      "metadata": {
        "colab": {
          "base_uri": "https://localhost:8080/"
        },
        "id": "DEKux5Q_Dz2H",
        "outputId": "3ebd91c6-5a5e-494a-ebfc-333bd69bf10e"
      },
      "execution_count": null,
      "outputs": [
        {
          "output_type": "stream",
          "name": "stdout",
          "text": [
            "Epoch 10 :  Loss: 0.6688\n",
            "Epoch 20 :  Loss: 0.5930\n",
            "Epoch 30 :  Loss: 0.4795\n",
            "Epoch 40 :  Loss: 0.3281\n",
            "Epoch 50 :  Loss: 0.1801\n",
            "Epoch 60 :  Loss: 0.1203\n",
            "Epoch 70 :  Loss: 0.0959\n",
            "Epoch 80 :  Loss: 0.0831\n",
            "Epoch 90 :  Loss: 0.0732\n",
            "Epoch 100 :  Loss: 0.0694\n",
            "Epoch 110 :  Loss: 0.0639\n",
            "Epoch 120 :  Loss: 0.0583\n",
            "Epoch 130 :  Loss: 0.0551\n",
            "Epoch 140 :  Loss: 0.0522\n",
            "Epoch 150 :  Loss: 0.0490\n",
            "Epoch 160 :  Loss: 0.0597\n",
            "Epoch 170 :  Loss: 0.0464\n",
            "Epoch 180 :  Loss: 0.0438\n",
            "Epoch 190 :  Loss: 0.0423\n",
            "Epoch 200 :  Loss: 0.0411\n"
          ]
        }
      ]
    },
    {
      "cell_type": "code",
      "source": [
        "model_mlp.eval()\n",
        "with torch.no_grad():\n",
        "  test_outputs = model_mlp(X_test_mlp_tensor)\n",
        "  _, predicted = torch.max(test_outputs,1)\n",
        "\n",
        "  accuracy = accuracy_score(y_test_mlp_tensor, predicted)\n",
        "  print(accuracy)"
      ],
      "metadata": {
        "colab": {
          "base_uri": "https://localhost:8080/"
        },
        "id": "HbLA6I55KGQ5",
        "outputId": "062c28ac-f845-47f4-e0e5-91a2176c8ad6"
      },
      "execution_count": null,
      "outputs": [
        {
          "output_type": "stream",
          "name": "stdout",
          "text": [
            "0.995\n"
          ]
        }
      ]
    },
    {
      "cell_type": "code",
      "source": [
        "cm = confusion_matrix(y_test_mlp, predicted.numpy())\n",
        "sns.heatmap(cm, annot = True, fmt = 'd')"
      ],
      "metadata": {
        "colab": {
          "base_uri": "https://localhost:8080/",
          "height": 447
        },
        "id": "u86byv9iK4Fs",
        "outputId": "3fe230fa-3700-4fac-d80d-ffbc1619d7de"
      },
      "execution_count": null,
      "outputs": [
        {
          "output_type": "execute_result",
          "data": {
            "text/plain": [
              "<Axes: >"
            ]
          },
          "metadata": {},
          "execution_count": 10
        },
        {
          "output_type": "display_data",
          "data": {
            "text/plain": [
              "<Figure size 640x480 with 2 Axes>"
            ],
            "image/png": "[encoded data removed]"
          },
          "metadata": {}
        }
      ]
    },
    {
      "cell_type": "code",
      "source": [
        "plot_decision_boundary(model_mlp, X_train_mlp, y_train_mlp)"
      ],
      "metadata": {
        "colab": {
          "base_uri": "https://localhost:8080/",
          "height": 564
        },
        "id": "lcXnUwOrQouf",
        "outputId": "8b6bd067-ee1e-4547-d95f-bab7dee32295"
      },
      "execution_count": null,
      "outputs": [
        {
          "output_type": "display_data",
          "data": {
            "text/plain": [
              "<Figure size 600x600 with 1 Axes>"
            ],
            "image/png": "[encoded data removed]"
          },
          "metadata": {}
        }
      ]
    },
    {
      "cell_type": "code",
      "source": [
        "class MLP(nn.Module):\n",
        "  def __init__(self):\n",
        "    super(MLP, self).__init__()\n",
        "    self.fc1 = nn.Linear(2,8)\n",
        "    self.fc2 = nn.Linear(8,4)\n",
        "    self.fc3 = nn.Linear(4,2)\n",
        "    self.act = nn.ReLU()\n",
        "\n",
        "  def forward(self,x):\n",
        "    x = self.act(self.fc1(x))\n",
        "    x = self.act(self.fc2(x))\n",
        "    x = self.fc3(x)\n",
        "    return x\n",
        "\n",
        "model_L1 = MLP()\n",
        "\n",
        "criterion = nn.CrossEntropyLoss()\n",
        "\n",
        "l1_parameters = [1e-6, 1e-5, 1e-4, 1e-3]\n",
        "best_val_loss = float('inf')\n",
        "best_l1_penalty = None\n",
        "\n",
        "for l1_param in l1_parameters :\n",
        "\n",
        "    print()\n",
        "    print(f\"Training with L1 penalty: {l1_param}\")\n",
        "\n",
        "    optimizer = optim.Adam(model_L1.parameters(), lr=0.03)\n",
        "    num_epochs = 200\n",
        "\n",
        "    for epoch in range(num_epochs):\n",
        "\n",
        "      model_L1.train()\n",
        "      optimizer.zero_grad()\n",
        "\n",
        "      outputs = model_L1(X_train_mlp_tensor)\n",
        "      loss = criterion(outputs, y_train_mlp_tensor)\n",
        "\n",
        "      l1_penalty = sum((torch.abs(param)).sum() for param in model_L1.parameters())\n",
        "      loss = loss + l1_param * l1_penalty\n",
        "\n",
        "      loss.backward()\n",
        "      optimizer.step()\n",
        "\n",
        "      model_L1.eval()\n",
        "      with torch.no_grad():\n",
        "          val_outputs = model_L1(X_val_mlp_tensor)\n",
        "          val_loss = criterion(val_outputs, y_val_mlp_tensor)\n",
        "\n",
        "      if (epoch + 1) % 25 == 0:\n",
        "          print(f'Epoch {epoch+1}, Training Loss: {loss.item():.4f}, Validation Loss: {val_loss.item():.4f}')\n",
        "\n",
        "      if val_loss.item() < best_val_loss:\n",
        "          best_val_loss = val_loss.item()\n",
        "          best_l1_param = l1_param\n",
        "\n",
        "print()\n",
        "print(f'Best L1 penalty: {best_l1_param}, Best validation loss: {best_val_loss:.4f}')\n",
        "\n",
        "model_L1 = MLP()\n",
        "optimizer = optim.Adam(model_L1.parameters(), lr=0.03)\n",
        "for epoch in range(num_epochs):\n",
        "    model_L1.train()\n",
        "    optimizer.zero_grad()\n",
        "\n",
        "    outputs = model_L1(X_train_mlp_tensor)\n",
        "    loss = criterion(outputs, y_train_mlp_tensor)\n",
        "\n",
        "    l1_penalty = sum(torch.abs(param).sum() for param in model_L1.parameters())\n",
        "    loss = loss + best_l1_param * l1_penalty\n",
        "\n",
        "    loss.backward()\n",
        "    optimizer.step()"
      ],
      "metadata": {
        "colab": {
          "base_uri": "https://localhost:8080/"
        },
        "id": "Tceu7d73T5B7",
        "outputId": "bede6902-1c2f-4093-ec11-87c5121cca3a"
      },
      "execution_count": null,
      "outputs": [
        {
          "output_type": "stream",
          "name": "stdout",
          "text": [
            "\n",
            "Training with L1 penalty: 1e-06\n",
            "Epoch 25, Training Loss: 0.5391, Validation Loss: 0.4959\n",
            "Epoch 50, Training Loss: 0.1794, Validation Loss: 0.0804\n",
            "Epoch 75, Training Loss: 0.0757, Validation Loss: 0.0298\n",
            "Epoch 100, Training Loss: 0.0463, Validation Loss: 0.0175\n",
            "Epoch 125, Training Loss: 0.0340, Validation Loss: 0.0112\n",
            "Epoch 150, Training Loss: 0.0271, Validation Loss: 0.0078\n",
            "Epoch 175, Training Loss: 0.0223, Validation Loss: 0.0051\n",
            "Epoch 200, Training Loss: 0.0197, Validation Loss: 0.0036\n",
            "\n",
            "Training with L1 penalty: 1e-05\n",
            "Epoch 25, Training Loss: 0.0277, Validation Loss: 0.0086\n",
            "Epoch 50, Training Loss: 0.0202, Validation Loss: 0.0049\n",
            "Epoch 75, Training Loss: 0.0184, Validation Loss: 0.0050\n",
            "Epoch 100, Training Loss: 0.0174, Validation Loss: 0.0041\n",
            "Epoch 125, Training Loss: 0.0164, Validation Loss: 0.0035\n",
            "Epoch 150, Training Loss: 0.0155, Validation Loss: 0.0030\n",
            "Epoch 175, Training Loss: 0.0146, Validation Loss: 0.0025\n",
            "Epoch 200, Training Loss: 0.0138, Validation Loss: 0.0021\n",
            "\n",
            "Training with L1 penalty: 0.0001\n",
            "Epoch 25, Training Loss: 0.0197, Validation Loss: 0.0021\n",
            "Epoch 50, Training Loss: 0.0191, Validation Loss: 0.0029\n",
            "Epoch 75, Training Loss: 0.0182, Validation Loss: 0.0027\n",
            "Epoch 100, Training Loss: 0.0175, Validation Loss: 0.0022\n",
            "Epoch 125, Training Loss: 0.0169, Validation Loss: 0.0017\n",
            "Epoch 150, Training Loss: 0.0163, Validation Loss: 0.0014\n",
            "Epoch 175, Training Loss: 0.0158, Validation Loss: 0.0011\n",
            "Epoch 200, Training Loss: 0.0153, Validation Loss: 0.0009\n",
            "\n",
            "Training with L1 penalty: 0.001\n",
            "Epoch 25, Training Loss: 0.0880, Validation Loss: 0.0018\n",
            "Epoch 50, Training Loss: 0.0789, Validation Loss: 0.0020\n",
            "Epoch 75, Training Loss: 0.0784, Validation Loss: 0.0019\n",
            "Epoch 100, Training Loss: 0.0780, Validation Loss: 0.0017\n",
            "Epoch 125, Training Loss: 0.0777, Validation Loss: 0.0014\n",
            "Epoch 150, Training Loss: 0.0773, Validation Loss: 0.0012\n",
            "Epoch 175, Training Loss: 0.0769, Validation Loss: 0.0010\n",
            "Epoch 200, Training Loss: 0.0765, Validation Loss: 0.0010\n",
            "\n",
            "Best L1 penalty: 0.0001, Best validation loss: 0.0006\n"
          ]
        }
      ]
    },
    {
      "cell_type": "code",
      "source": [
        "model_L1.eval()\n",
        "with torch.no_grad():\n",
        "  test_outputs = model_L1(X_test_mlp_tensor)\n",
        "  _, predicted_L1 = torch.max(test_outputs,1)\n",
        "\n",
        "  accuracy = accuracy_score(y_test_mlp_tensor, predicted_L1)\n",
        "  print(accuracy)"
      ],
      "metadata": {
        "colab": {
          "base_uri": "https://localhost:8080/"
        },
        "id": "XaT07ImnaDVN",
        "outputId": "73c11fc1-3d14-4b2e-a401-76adb080f82b"
      },
      "execution_count": null,
      "outputs": [
        {
          "output_type": "stream",
          "name": "stdout",
          "text": [
            "0.985\n"
          ]
        }
      ]
    },
    {
      "cell_type": "code",
      "source": [
        "cm = confusion_matrix(y_test_mlp, predicted_L1.numpy())\n",
        "sns.heatmap(cm, annot = True, fmt = 'd')"
      ],
      "metadata": {
        "colab": {
          "base_uri": "https://localhost:8080/",
          "height": 447
        },
        "id": "vwTzHQamb9k_",
        "outputId": "1a3a0506-abb9-46b7-8717-58cec907c319"
      },
      "execution_count": null,
      "outputs": [
        {
          "output_type": "execute_result",
          "data": {
            "text/plain": [
              "<Axes: >"
            ]
          },
          "metadata": {},
          "execution_count": 14
        },
        {
          "output_type": "display_data",
          "data": {
            "text/plain": [
              "<Figure size 640x480 with 2 Axes>"
            ],
            "image/png": "[encoded data removed]"
          },
          "metadata": {}
        }
      ]
    },
    {
      "cell_type": "code",
      "source": [
        "plot_decision_boundary(model_L1, X_train_mlp, y_train_mlp)"
      ],
      "metadata": {
        "colab": {
          "base_uri": "https://localhost:8080/",
          "height": 564
        },
        "id": "_7dG8mXxcCjD",
        "outputId": "b468f450-e7fe-46a7-9522-ff003d3e7e37"
      },
      "execution_count": null,
      "outputs": [
        {
          "output_type": "display_data",
          "data": {
            "text/plain": [
              "<Figure size 600x600 with 1 Axes>"
            ],
            "image/png": "[encoded data removed]"
          },
          "metadata": {}
        }
      ]
    },
    {
      "cell_type": "code",
      "source": [
        "class MLP(nn.Module):\n",
        "  def __init__(self):\n",
        "    super(MLP, self).__init__()\n",
        "    self.fc1 = nn.Linear(2,8)\n",
        "    self.fc2 = nn.Linear(8,4)\n",
        "    self.fc3 = nn.Linear(4,2)\n",
        "    self.act = nn.ReLU()\n",
        "\n",
        "  def forward(self,x):\n",
        "    x = self.act(self.fc1(x))\n",
        "    x = self.act(self.fc2(x))\n",
        "    x = self.fc3(x)\n",
        "    return x\n",
        "\n",
        "model_L2 = MLP()\n",
        "\n",
        "criterion = nn.CrossEntropyLoss()\n",
        "\n",
        "l2_parameters = [1e-6, 1e-5, 1e-4, 1e-3]\n",
        "best_val_loss = float('inf')\n",
        "best_l1_penalty = None\n",
        "\n",
        "for l2_param in l2_parameters :\n",
        "\n",
        "    print()\n",
        "    print(f\"Training with L1 penalty: {l2_param}\")\n",
        "\n",
        "    optimizer = optim.Adam(model_L2.parameters(), lr=0.03)\n",
        "    num_epochs = 150\n",
        "\n",
        "    for epoch in range(num_epochs):\n",
        "\n",
        "      model_L2.train()\n",
        "      optimizer.zero_grad()\n",
        "\n",
        "      outputs = model_L2(X_train_mlp_tensor)\n",
        "      loss = criterion(outputs, y_train_mlp_tensor)\n",
        "\n",
        "      l2_penalty = sum((param ** 2).sum() for param in model_L2.parameters())\n",
        "      loss = loss + l2_param * l2_penalty\n",
        "\n",
        "      loss.backward()\n",
        "      optimizer.step()\n",
        "\n",
        "      model_L2.eval()\n",
        "      with torch.no_grad():\n",
        "          val_outputs = model_L2(X_val_mlp_tensor)\n",
        "          val_loss = criterion(val_outputs, y_val_mlp_tensor)\n",
        "\n",
        "      if (epoch + 1) % 25 == 0:\n",
        "          print(f'Epoch {epoch+1}, Training Loss: {loss.item():.4f}, Validation Loss: {val_loss.item():.4f}')\n",
        "\n",
        "      if val_loss.item() < best_val_loss:\n",
        "          best_val_loss = val_loss.item()\n",
        "          best_l2_param = l2_param\n",
        "\n",
        "print()\n",
        "print(f'Best L2 penalty: {best_l2_param}, Best validation loss: {best_val_loss:.4f}')\n",
        "\n",
        "model_L2 = MLP()\n",
        "optimizer = optim.Adam(model_L2.parameters(), lr=0.03)\n",
        "for epoch in range(num_epochs):\n",
        "    model_L2.train()\n",
        "    optimizer.zero_grad()\n",
        "\n",
        "    outputs = model_L2(X_train_mlp_tensor)\n",
        "    loss = criterion(outputs, y_train_mlp_tensor)\n",
        "\n",
        "    l2_penalty = sum((param ** 2).sum() for param in model_L2.parameters())\n",
        "    loss = loss + best_l2_param * l2_penalty\n",
        "\n",
        "    loss.backward()\n",
        "    optimizer.step()"
      ],
      "metadata": {
        "colab": {
          "base_uri": "https://localhost:8080/"
        },
        "id": "EaQKxuCaorqa",
        "outputId": "fa8dfd8d-51e0-43f1-eca8-5432b9bfbfb9"
      },
      "execution_count": null,
      "outputs": [
        {
          "output_type": "stream",
          "name": "stdout",
          "text": [
            "\n",
            "Training with L1 penalty: 1e-06\n",
            "Epoch 25, Training Loss: 0.6209, Validation Loss: 0.6066\n",
            "Epoch 50, Training Loss: 0.2890, Validation Loss: 0.2688\n",
            "Epoch 75, Training Loss: 0.1340, Validation Loss: 0.1025\n",
            "Epoch 100, Training Loss: 0.0822, Validation Loss: 0.0490\n",
            "Epoch 125, Training Loss: 0.0621, Validation Loss: 0.0279\n",
            "Epoch 150, Training Loss: 0.0553, Validation Loss: 0.0180\n",
            "\n",
            "Training with L1 penalty: 1e-05\n",
            "Epoch 25, Training Loss: 0.0533, Validation Loss: 0.0299\n",
            "Epoch 50, Training Loss: 0.0486, Validation Loss: 0.0153\n",
            "Epoch 75, Training Loss: 0.0456, Validation Loss: 0.0147\n",
            "Epoch 100, Training Loss: 0.0426, Validation Loss: 0.0118\n",
            "Epoch 125, Training Loss: 0.0398, Validation Loss: 0.0098\n",
            "Epoch 150, Training Loss: 0.0372, Validation Loss: 0.0081\n",
            "\n",
            "Training with L1 penalty: 0.0001\n",
            "Epoch 25, Training Loss: 0.0517, Validation Loss: 0.0069\n",
            "Epoch 50, Training Loss: 0.0483, Validation Loss: 0.0050\n",
            "Epoch 75, Training Loss: 0.0467, Validation Loss: 0.0046\n",
            "Epoch 100, Training Loss: 0.0455, Validation Loss: 0.0042\n",
            "Epoch 125, Training Loss: 0.0444, Validation Loss: 0.0035\n",
            "Epoch 150, Training Loss: 0.0435, Validation Loss: 0.0030\n",
            "\n",
            "Training with L1 penalty: 0.001\n",
            "Epoch 25, Training Loss: 0.2162, Validation Loss: 0.0095\n",
            "Epoch 50, Training Loss: 0.1974, Validation Loss: 0.0049\n",
            "Epoch 75, Training Loss: 0.1896, Validation Loss: 0.0064\n",
            "Epoch 100, Training Loss: 0.1837, Validation Loss: 0.0079\n",
            "Epoch 125, Training Loss: 0.1786, Validation Loss: 0.0084\n",
            "Epoch 150, Training Loss: 0.1745, Validation Loss: 0.0104\n",
            "\n",
            "Best L2 penalty: 0.001, Best validation loss: 0.0023\n"
          ]
        }
      ]
    },
    {
      "cell_type": "code",
      "source": [
        "model_L2.eval()\n",
        "with torch.no_grad():\n",
        "  test_outputs = model_L2(X_test_mlp_tensor)\n",
        "  _, predicted_L2 = torch.max(test_outputs,1)\n",
        "\n",
        "  accuracy = accuracy_score(y_test_mlp_tensor, predicted_L2)\n",
        "  print(accuracy)"
      ],
      "metadata": {
        "colab": {
          "base_uri": "https://localhost:8080/"
        },
        "id": "7TRrgxw0pqWm",
        "outputId": "ffa6c9d5-daaa-4fa0-b37c-566bcd4b863e"
      },
      "execution_count": null,
      "outputs": [
        {
          "output_type": "stream",
          "name": "stdout",
          "text": [
            "0.975\n"
          ]
        }
      ]
    },
    {
      "cell_type": "code",
      "source": [
        "cm = confusion_matrix(y_test_mlp, predicted_L2.numpy())\n",
        "sns.heatmap(cm, annot = True, fmt = 'd')"
      ],
      "metadata": {
        "colab": {
          "base_uri": "https://localhost:8080/",
          "height": 449
        },
        "id": "gionBnBsp0tq",
        "outputId": "bf950df0-f432-4b74-aafd-b5ddbea95061"
      },
      "execution_count": null,
      "outputs": [
        {
          "output_type": "execute_result",
          "data": {
            "text/plain": [
              "<Axes: >"
            ]
          },
          "metadata": {},
          "execution_count": 22
        },
        {
          "output_type": "display_data",
          "data": {
            "text/plain": [
              "<Figure size 640x480 with 2 Axes>"
            ],
            "image/png": "[encoded data removed]"
          },
          "metadata": {}
        }
      ]
    },
    {
      "cell_type": "code",
      "source": [
        "plot_decision_boundary(model_L2, X_train_mlp, y_train_mlp)"
      ],
      "metadata": {
        "colab": {
          "base_uri": "https://localhost:8080/",
          "height": 564
        },
        "id": "_G1EMfKVp07c",
        "outputId": "ab440d42-0910-4391-a3b9-508485d60199"
      },
      "execution_count": null,
      "outputs": [
        {
          "output_type": "display_data",
          "data": {
            "text/plain": [
              "<Figure size 600x600 with 1 Axes>"
            ],
            "image/png": "[encoded data removed]"
          },
          "metadata": {}
        }
      ]
    },
    {
      "cell_type": "code",
      "source": [
        "from sklearn.linear_model import LogisticRegression\n",
        "model_lr = LogisticRegression(\n",
        "    penalty = 'l1',\n",
        "    max_iter = 150,\n",
        "    solver = 'saga'\n",
        ")\n",
        "\n",
        "model_lr.fit(X_train_lr, y_train_lr)"
      ],
      "metadata": {
        "id": "7LkTxVG96YPT",
        "colab": {
          "base_uri": "https://localhost:8080/",
          "height": 80
        },
        "outputId": "cfec754e-05b7-463f-b624-1eee9496ff0c"
      },
      "execution_count": null,
      "outputs": [
        {
          "output_type": "execute_result",
          "data": {
            "text/plain": [
              "LogisticRegression(max_iter=150, penalty='l1', solver='saga')"
            ],
            "text/html": [
              "<style>#sk-container-id-1 {\n",
              "  /* Definition of color scheme common for light and dark mode */\n",
              "  --sklearn-color-text: black;\n",
              "  --sklearn-color-line: gray;\n",
              "  /* Definition of color scheme for unfitted estimators */\n",
              "  --sklearn-color-unfitted-level-0: #fff5e6;\n",
              "  --sklearn-color-unfitted-level-1: #f6e4d2;\n",
              "  --sklearn-color-unfitted-level-2: #ffe0b3;\n",
              "  --sklearn-color-unfitted-level-3: chocolate;\n",
              "  /* Definition of color scheme for fitted estimators */\n",
              "  --sklearn-color-fitted-level-0: #f0f8ff;\n",
              "  --sklearn-color-fitted-level-1: #d4ebff;\n",
              "  --sklearn-color-fitted-level-2: #b3dbfd;\n",
              "  --sklearn-color-fitted-level-3: cornflowerblue;\n",
              "\n",
              "  /* Specific color for light theme */\n",
              "  --sklearn-color-text-on-default-background: var(--sg-text-color, var(--theme-code-foreground, var(--jp-content-font-color1, black)));\n",
              "  --sklearn-color-background: var(--sg-background-color, var(--theme-background, var(--jp-layout-color0, white)));\n",
              "  --sklearn-color-border-box: var(--sg-text-color, var(--theme-code-foreground, var(--jp-content-font-color1, black)));\n",
              "  --sklearn-color-icon: #696969;\n",
              "\n",
              "  @media (prefers-color-scheme: dark) {\n",
              "    /* Redefinition of color scheme for dark theme */\n",
              "    --sklearn-color-text-on-default-background: var(--sg-text-color, var(--theme-code-foreground, var(--jp-content-font-color1, white)));\n",
              "    --sklearn-color-background: var(--sg-background-color, var(--theme-background, var(--jp-layout-color0, #111)));\n",
              "    --sklearn-color-border-box: var(--sg-text-color, var(--theme-code-foreground, var(--jp-content-font-color1, white)));\n",
              "    --sklearn-color-icon: #878787;\n",
              "  }\n",
              "}\n",
              "\n",
              "#sk-container-id-1 {\n",
              "  color: var(--sklearn-color-text);\n",
              "}\n",
              "\n",
              "#sk-container-id-1 pre {\n",
              "  padding: 0;\n",
              "}\n",
              "\n",
              "#sk-container-id-1 input.sk-hidden--visually {\n",
              "  border: 0;\n",
              "  clip: rect(1px 1px 1px 1px);\n",
              "  clip: rect(1px, 1px, 1px, 1px);\n",
              "  height: 1px;\n",
              "  margin: -1px;\n",
              "  overflow: hidden;\n",
              "  padding: 0;\n",
              "  position: absolute;\n",
              "  width: 1px;\n",
              "}\n",
              "\n",
              "#sk-container-id-1 div.sk-dashed-wrapped {\n",
              "  border: 1px dashed var(--sklearn-color-line);\n",
              "  margin: 0 0.4em 0.5em 0.4em;\n",
              "  box-sizing: border-box;\n",
              "  padding-bottom: 0.4em;\n",
              "  background-color: var(--sklearn-color-background);\n",
              "}\n",
              "\n",
              "#sk-container-id-1 div.sk-container {\n",
              "  /* jupyter's `normalize.less` sets `[hidden] { display: none; }`\n",
              "     but bootstrap.min.css set `[hidden] { display: none !important; }`\n",
              "     so we also need the `!important` here to be able to override the\n",
              "     default hidden behavior on the sphinx rendered scikit-learn.org.\n",
              "     See: https://github.com/scikit-learn/scikit-learn/issues/21755 */\n",
              "  display: inline-block !important;\n",
              "  position: relative;\n",
              "}\n",
              "\n",
              "#sk-container-id-1 div.sk-text-repr-fallback {\n",
              "  display: none;\n",
              "}\n",
              "\n",
              "div.sk-parallel-item,\n",
              "div.sk-serial,\n",
              "div.sk-item {\n",
              "  /* draw centered vertical line to link estimators */\n",
              "  background-image: linear-gradient(var(--sklearn-color-text-on-default-background), var(--sklearn-color-text-on-default-background));\n",
              "  background-size: 2px 100%;\n",
              "  background-repeat: no-repeat;\n",
              "  background-position: center center;\n",
              "}\n",
              "\n",
              "/* Parallel-specific style estimator block */\n",
              "\n",
              "#sk-container-id-1 div.sk-parallel-item::after {\n",
              "  content: \"\";\n",
              "  width: 100%;\n",
              "  border-bottom: 2px solid var(--sklearn-color-text-on-default-background);\n",
              "  flex-grow: 1;\n",
              "}\n",
              "\n",
              "#sk-container-id-1 div.sk-parallel {\n",
              "  display: flex;\n",
              "  align-items: stretch;\n",
              "  justify-content: center;\n",
              "  background-color: var(--sklearn-color-background);\n",
              "  position: relative;\n",
              "}\n",
              "\n",
              "#sk-container-id-1 div.sk-parallel-item {\n",
              "  display: flex;\n",
              "  flex-direction: column;\n",
              "}\n",
              "\n",
              "#sk-container-id-1 div.sk-parallel-item:first-child::after {\n",
              "  align-self: flex-end;\n",
              "  width: 50%;\n",
              "}\n",
              "\n",
              "#sk-container-id-1 div.sk-parallel-item:last-child::after {\n",
              "  align-self: flex-start;\n",
              "  width: 50%;\n",
              "}\n",
              "\n",
              "#sk-container-id-1 div.sk-parallel-item:only-child::after {\n",
              "  width: 0;\n",
              "}\n",
              "\n",
              "/* Serial-specific style estimator block */\n",
              "\n",
              "#sk-container-id-1 div.sk-serial {\n",
              "  display: flex;\n",
              "  flex-direction: column;\n",
              "  align-items: center;\n",
              "  background-color: var(--sklearn-color-background);\n",
              "  padding-right: 1em;\n",
              "  padding-left: 1em;\n",
              "}\n",
              "\n",
              "\n",
              "/* Toggleable style: style used for estimator/Pipeline/ColumnTransformer box that is\n",
              "clickable and can be expanded/collapsed.\n",
              "- Pipeline and ColumnTransformer use this feature and define the default style\n",
              "- Estimators will overwrite some part of the style using the `sk-estimator` class\n",
              "*/\n",
              "\n",
              "/* Pipeline and ColumnTransformer style (default) */\n",
              "\n",
              "#sk-container-id-1 div.sk-toggleable {\n",
              "  /* Default theme specific background. It is overwritten whether we have a\n",
              "  specific estimator or a Pipeline/ColumnTransformer */\n",
              "  background-color: var(--sklearn-color-background);\n",
              "}\n",
              "\n",
              "/* Toggleable label */\n",
              "#sk-container-id-1 label.sk-toggleable__label {\n",
              "  cursor: pointer;\n",
              "  display: block;\n",
              "  width: 100%;\n",
              "  margin-bottom: 0;\n",
              "  padding: 0.5em;\n",
              "  box-sizing: border-box;\n",
              "  text-align: center;\n",
              "}\n",
              "\n",
              "#sk-container-id-1 label.sk-toggleable__label-arrow:before {\n",
              "  /* Arrow on the left of the label */\n",
              "  content: \"▸\";\n",
              "  float: left;\n",
              "  margin-right: 0.25em;\n",
              "  color: var(--sklearn-color-icon);\n",
              "}\n",
              "\n",
              "#sk-container-id-1 label.sk-toggleable__label-arrow:hover:before {\n",
              "  color: var(--sklearn-color-text);\n",
              "}\n",
              "\n",
              "/* Toggleable content - dropdown */\n",
              "\n",
              "#sk-container-id-1 div.sk-toggleable__content {\n",
              "  max-height: 0;\n",
              "  max-width: 0;\n",
              "  overflow: hidden;\n",
              "  text-align: left;\n",
              "  /* unfitted */\n",
              "  background-color: var(--sklearn-color-unfitted-level-0);\n",
              "}\n",
              "\n",
              "#sk-container-id-1 div.sk-toggleable__content.fitted {\n",
              "  /* fitted */\n",
              "  background-color: var(--sklearn-color-fitted-level-0);\n",
              "}\n",
              "\n",
              "#sk-container-id-1 div.sk-toggleable__content pre {\n",
              "  margin: 0.2em;\n",
              "  border-radius: 0.25em;\n",
              "  color: var(--sklearn-color-text);\n",
              "  /* unfitted */\n",
              "  background-color: var(--sklearn-color-unfitted-level-0);\n",
              "}\n",
              "\n",
              "#sk-container-id-1 div.sk-toggleable__content.fitted pre {\n",
              "  /* unfitted */\n",
              "  background-color: var(--sklearn-color-fitted-level-0);\n",
              "}\n",
              "\n",
              "#sk-container-id-1 input.sk-toggleable__control:checked~div.sk-toggleable__content {\n",
              "  /* Expand drop-down */\n",
              "  max-height: 200px;\n",
              "  max-width: 100%;\n",
              "  overflow: auto;\n",
              "}\n",
              "\n",
              "#sk-container-id-1 input.sk-toggleable__control:checked~label.sk-toggleable__label-arrow:before {\n",
              "  content: \"▾\";\n",
              "}\n",
              "\n",
              "/* Pipeline/ColumnTransformer-specific style */\n",
              "\n",
              "#sk-container-id-1 div.sk-label input.sk-toggleable__control:checked~label.sk-toggleable__label {\n",
              "  color: var(--sklearn-color-text);\n",
              "  background-color: var(--sklearn-color-unfitted-level-2);\n",
              "}\n",
              "\n",
              "#sk-container-id-1 div.sk-label.fitted input.sk-toggleable__control:checked~label.sk-toggleable__label {\n",
              "  background-color: var(--sklearn-color-fitted-level-2);\n",
              "}\n",
              "\n",
              "/* Estimator-specific style */\n",
              "\n",
              "/* Colorize estimator box */\n",
              "#sk-container-id-1 div.sk-estimator input.sk-toggleable__control:checked~label.sk-toggleable__label {\n",
              "  /* unfitted */\n",
              "  background-color: var(--sklearn-color-unfitted-level-2);\n",
              "}\n",
              "\n",
              "#sk-container-id-1 div.sk-estimator.fitted input.sk-toggleable__control:checked~label.sk-toggleable__label {\n",
              "  /* fitted */\n",
              "  background-color: var(--sklearn-color-fitted-level-2);\n",
              "}\n",
              "\n",
              "#sk-container-id-1 div.sk-label label.sk-toggleable__label,\n",
              "#sk-container-id-1 div.sk-label label {\n",
              "  /* The background is the default theme color */\n",
              "  color: var(--sklearn-color-text-on-default-background);\n",
              "}\n",
              "\n",
              "/* On hover, darken the color of the background */\n",
              "#sk-container-id-1 div.sk-label:hover label.sk-toggleable__label {\n",
              "  color: var(--sklearn-color-text);\n",
              "  background-color: var(--sklearn-color-unfitted-level-2);\n",
              "}\n",
              "\n",
              "/* Label box, darken color on hover, fitted */\n",
              "#sk-container-id-1 div.sk-label.fitted:hover label.sk-toggleable__label.fitted {\n",
              "  color: var(--sklearn-color-text);\n",
              "  background-color: var(--sklearn-color-fitted-level-2);\n",
              "}\n",
              "\n",
              "/* Estimator label */\n",
              "\n",
              "#sk-container-id-1 div.sk-label label {\n",
              "  font-family: monospace;\n",
              "  font-weight: bold;\n",
              "  display: inline-block;\n",
              "  line-height: 1.2em;\n",
              "}\n",
              "\n",
              "#sk-container-id-1 div.sk-label-container {\n",
              "  text-align: center;\n",
              "}\n",
              "\n",
              "/* Estimator-specific */\n",
              "#sk-container-id-1 div.sk-estimator {\n",
              "  font-family: monospace;\n",
              "  border: 1px dotted var(--sklearn-color-border-box);\n",
              "  border-radius: 0.25em;\n",
              "  box-sizing: border-box;\n",
              "  margin-bottom: 0.5em;\n",
              "  /* unfitted */\n",
              "  background-color: var(--sklearn-color-unfitted-level-0);\n",
              "}\n",
              "\n",
              "#sk-container-id-1 div.sk-estimator.fitted {\n",
              "  /* fitted */\n",
              "  background-color: var(--sklearn-color-fitted-level-0);\n",
              "}\n",
              "\n",
              "/* on hover */\n",
              "#sk-container-id-1 div.sk-estimator:hover {\n",
              "  /* unfitted */\n",
              "  background-color: var(--sklearn-color-unfitted-level-2);\n",
              "}\n",
              "\n",
              "#sk-container-id-1 div.sk-estimator.fitted:hover {\n",
              "  /* fitted */\n",
              "  background-color: var(--sklearn-color-fitted-level-2);\n",
              "}\n",
              "\n",
              "/* Specification for estimator info (e.g. \"i\" and \"?\") */\n",
              "\n",
              "/* Common style for \"i\" and \"?\" */\n",
              "\n",
              ".sk-estimator-doc-link,\n",
              "a:link.sk-estimator-doc-link,\n",
              "a:visited.sk-estimator-doc-link {\n",
              "  float: right;\n",
              "  font-size: smaller;\n",
              "  line-height: 1em;\n",
              "  font-family: monospace;\n",
              "  background-color: var(--sklearn-color-background);\n",
              "  border-radius: 1em;\n",
              "  height: 1em;\n",
              "  width: 1em;\n",
              "  text-decoration: none !important;\n",
              "  margin-left: 1ex;\n",
              "  /* unfitted */\n",
              "  border: var(--sklearn-color-unfitted-level-1) 1pt solid;\n",
              "  color: var(--sklearn-color-unfitted-level-1);\n",
              "}\n",
              "\n",
              ".sk-estimator-doc-link.fitted,\n",
              "a:link.sk-estimator-doc-link.fitted,\n",
              "a:visited.sk-estimator-doc-link.fitted {\n",
              "  /* fitted */\n",
              "  border: var(--sklearn-color-fitted-level-1) 1pt solid;\n",
              "  color: var(--sklearn-color-fitted-level-1);\n",
              "}\n",
              "\n",
              "/* On hover */\n",
              "div.sk-estimator:hover .sk-estimator-doc-link:hover,\n",
              ".sk-estimator-doc-link:hover,\n",
              "div.sk-label-container:hover .sk-estimator-doc-link:hover,\n",
              ".sk-estimator-doc-link:hover {\n",
              "  /* unfitted */\n",
              "  background-color: var(--sklearn-color-unfitted-level-3);\n",
              "  color: var(--sklearn-color-background);\n",
              "  text-decoration: none;\n",
              "}\n",
              "\n",
              "div.sk-estimator.fitted:hover .sk-estimator-doc-link.fitted:hover,\n",
              ".sk-estimator-doc-link.fitted:hover,\n",
              "div.sk-label-container:hover .sk-estimator-doc-link.fitted:hover,\n",
              ".sk-estimator-doc-link.fitted:hover {\n",
              "  /* fitted */\n",
              "  background-color: var(--sklearn-color-fitted-level-3);\n",
              "  color: var(--sklearn-color-background);\n",
              "  text-decoration: none;\n",
              "}\n",
              "\n",
              "/* Span, style for the box shown on hovering the info icon */\n",
              ".sk-estimator-doc-link span {\n",
              "  display: none;\n",
              "  z-index: 9999;\n",
              "  position: relative;\n",
              "  font-weight: normal;\n",
              "  right: .2ex;\n",
              "  padding: .5ex;\n",
              "  margin: .5ex;\n",
              "  width: min-content;\n",
              "  min-width: 20ex;\n",
              "  max-width: 50ex;\n",
              "  color: var(--sklearn-color-text);\n",
              "  box-shadow: 2pt 2pt 4pt #999;\n",
              "  /* unfitted */\n",
              "  background: var(--sklearn-color-unfitted-level-0);\n",
              "  border: .5pt solid var(--sklearn-color-unfitted-level-3);\n",
              "}\n",
              "\n",
              ".sk-estimator-doc-link.fitted span {\n",
              "  /* fitted */\n",
              "  background: var(--sklearn-color-fitted-level-0);\n",
              "  border: var(--sklearn-color-fitted-level-3);\n",
              "}\n",
              "\n",
              ".sk-estimator-doc-link:hover span {\n",
              "  display: block;\n",
              "}\n",
              "\n",
              "/* \"?\"-specific style due to the `<a>` HTML tag */\n",
              "\n",
              "#sk-container-id-1 a.estimator_doc_link {\n",
              "  float: right;\n",
              "  font-size: 1rem;\n",
              "  line-height: 1em;\n",
              "  font-family: monospace;\n",
              "  background-color: var(--sklearn-color-background);\n",
              "  border-radius: 1rem;\n",
              "  height: 1rem;\n",
              "  width: 1rem;\n",
              "  text-decoration: none;\n",
              "  /* unfitted */\n",
              "  color: var(--sklearn-color-unfitted-level-1);\n",
              "  border: var(--sklearn-color-unfitted-level-1) 1pt solid;\n",
              "}\n",
              "\n",
              "#sk-container-id-1 a.estimator_doc_link.fitted {\n",
              "  /* fitted */\n",
              "  border: var(--sklearn-color-fitted-level-1) 1pt solid;\n",
              "  color: var(--sklearn-color-fitted-level-1);\n",
              "}\n",
              "\n",
              "/* On hover */\n",
              "#sk-container-id-1 a.estimator_doc_link:hover {\n",
              "  /* unfitted */\n",
              "  background-color: var(--sklearn-color-unfitted-level-3);\n",
              "  color: var(--sklearn-color-background);\n",
              "  text-decoration: none;\n",
              "}\n",
              "\n",
              "#sk-container-id-1 a.estimator_doc_link.fitted:hover {\n",
              "  /* fitted */\n",
              "  background-color: var(--sklearn-color-fitted-level-3);\n",
              "}\n",
              "</style><div id=\"sk-container-id-1\" class=\"sk-top-container\"><div class=\"sk-text-repr-fallback\"><pre>LogisticRegression(max_iter=150, penalty=&#x27;l1&#x27;, solver=&#x27;saga&#x27;)</pre><b>In a Jupyter environment, please rerun this cell to show the HTML representation or trust the notebook. <br />On GitHub, the HTML representation is unable to render, please try loading this page with nbviewer.org.</b></div><div class=\"sk-container\" hidden><div class=\"sk-item\"><div class=\"sk-estimator fitted sk-toggleable\"><input class=\"sk-toggleable__control sk-hidden--visually\" id=\"sk-estimator-id-1\" type=\"checkbox\" checked><label for=\"sk-estimator-id-1\" class=\"sk-toggleable__label fitted sk-toggleable__label-arrow fitted\">&nbsp;&nbsp;LogisticRegression<a class=\"sk-estimator-doc-link fitted\" rel=\"noreferrer\" target=\"_blank\" href=\"https://scikit-learn.org/1.5/modules/generated/sklearn.linear_model.LogisticRegression.html\">?<span>Documentation for LogisticRegression</span></a><span class=\"sk-estimator-doc-link fitted\">i<span>Fitted</span></span></label><div class=\"sk-toggleable__content fitted\"><pre>LogisticRegression(max_iter=150, penalty=&#x27;l1&#x27;, solver=&#x27;saga&#x27;)</pre></div> </div></div></div></div>"
            ]
          },
          "metadata": {},
          "execution_count": 24
        }
      ]
    },
    {
      "cell_type": "code",
      "source": [
        "predicted_lr = model_lr.predict(X_test_lr)\n",
        "predicted_lr"
      ],
      "metadata": {
        "colab": {
          "base_uri": "https://localhost:8080/"
        },
        "id": "h59xxf-JRXq3",
        "outputId": "ef62d96a-9f84-40a5-9a4b-6f92e2705e8f"
      },
      "execution_count": null,
      "outputs": [
        {
          "output_type": "execute_result",
          "data": {
            "text/plain": [
              "array([1., 0., 0., 1., 1., 1., 1., 0., 1., 1., 0., 1., 1., 1., 0., 1., 0.,\n",
              "       0., 0., 0., 0., 1., 1., 0., 0., 0., 1., 0., 1., 0., 0., 0., 0., 1.,\n",
              "       0., 1., 1., 1., 1., 1., 0., 0., 1., 1., 1., 1., 0., 1., 0., 0., 1.,\n",
              "       1., 0., 0., 0., 0., 1., 1., 1., 0., 0., 0., 1., 1., 0., 1., 0., 1.,\n",
              "       0., 1., 1., 1., 1., 1., 0., 1., 0., 1., 1., 0., 1., 1., 1., 1., 1.,\n",
              "       1., 0., 1., 1., 0., 1., 1., 1., 1., 0., 1., 0., 0., 0., 0., 0., 1.,\n",
              "       0., 1., 0., 1., 1., 1., 0., 1., 1., 0., 1., 1., 1., 0., 1., 1., 0.,\n",
              "       1., 0., 1., 0., 0., 0., 1., 1., 1., 1., 1., 1., 1., 0., 0., 0., 0.,\n",
              "       0., 1., 1., 1., 1., 1., 0., 1., 1., 0., 0., 1., 1., 0., 0., 0., 0.,\n",
              "       1., 1., 0., 1., 0., 1., 0., 1., 0., 1., 0., 1., 0., 0., 1., 1., 1.,\n",
              "       0., 1., 0., 0., 0., 0., 1., 1., 1., 1., 1., 1., 0., 1., 0., 1., 0.,\n",
              "       1., 1., 1., 1., 0., 0., 0., 0., 0., 1., 1., 1., 0.])"
            ]
          },
          "metadata": {},
          "execution_count": 25
        }
      ]
    },
    {
      "cell_type": "code",
      "source": [
        "accuracy = accuracy_score(y_test_lr, predicted_lr)\n",
        "print(accuracy)"
      ],
      "metadata": {
        "colab": {
          "base_uri": "https://localhost:8080/"
        },
        "id": "DM1Nnr7NRehy",
        "outputId": "3cc1ffbc-1c57-4b2a-8d86-3781fdbaab25"
      },
      "execution_count": null,
      "outputs": [
        {
          "output_type": "stream",
          "name": "stdout",
          "text": [
            "0.945\n"
          ]
        }
      ]
    },
    {
      "cell_type": "code",
      "source": [
        "cm = confusion_matrix(y_test_lr, predicted_lr)\n",
        "sns.heatmap(cm, annot = True, fmt = 'd')"
      ],
      "metadata": {
        "colab": {
          "base_uri": "https://localhost:8080/",
          "height": 447
        },
        "id": "EzXRITKDR_Tv",
        "outputId": "2d4a99f7-8db7-4d59-dab0-826ad30a90a0"
      },
      "execution_count": null,
      "outputs": [
        {
          "output_type": "execute_result",
          "data": {
            "text/plain": [
              "<Axes: >"
            ]
          },
          "metadata": {},
          "execution_count": 27
        },
        {
          "output_type": "display_data",
          "data": {
            "text/plain": [
              "<Figure size 640x480 with 2 Axes>"
            ],
            "image/png": "[encoded data removed]"
          },
          "metadata": {}
        }
      ]
    }
  ]
}